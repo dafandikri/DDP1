{
 "cells": [
  {
   "cell_type": "code",
   "execution_count": 1,
   "metadata": {},
   "outputs": [
    {
     "data": {
      "text/plain": [
       "True"
      ]
     },
     "execution_count": 1,
     "metadata": {},
     "output_type": "execute_result"
    }
   ],
   "source": [
    "def mystery(param):\n",
    "    param_rev = param[::-1]\n",
    "    if param == param_rev:\n",
    "        return True\n",
    "    else:\n",
    "        return False\n",
    "\n",
    "mystery(\"kasurnababanrusak\")"
   ]
  },
  {
   "cell_type": "code",
   "execution_count": 40,
   "metadata": {},
   "outputs": [
    {
     "data": {
      "text/plain": [
       "True"
      ]
     },
     "execution_count": 40,
     "metadata": {},
     "output_type": "execute_result"
    }
   ],
   "source": [
    "def mystery(param):\n",
    "    i,j = 0,len(param)-1\n",
    "    while (i != j) and (param[i] == param[j]) and i < len(param)-1:\n",
    "        i+=1\n",
    "        j-=1\n",
    "    if param[i] == param[j]:\n",
    "        return True\n",
    "    return False\n",
    "    \n",
    "mystery(\"acca\")"
   ]
  },
  {
   "cell_type": "code",
   "execution_count": 21,
   "metadata": {},
   "outputs": [
    {
     "name": "stdout",
     "output_type": "stream",
     "text": [
      "2\n",
      "5\n",
      "8\n",
      "11\n",
      "14\n",
      "\n",
      "5\n"
     ]
    }
   ],
   "source": [
    "counter = 0\n",
    "for i in range(2, 17, 3):\n",
    "    counter += 1\n",
    "    print(i)\n",
    "print()\n",
    "print(counter)"
   ]
  },
  {
   "cell_type": "code",
   "execution_count": 35,
   "metadata": {},
   "outputs": [
    {
     "name": "stdout",
     "output_type": "stream",
     "text": [
      "80.0\n",
      "85.8\n",
      "67.3\n",
      "70.6\n",
      "90.8\n",
      "78.9\n"
     ]
    }
   ],
   "source": [
    "nama_file = input(\"nama file: \")\n",
    "open_file = open(nama_file, \"r\")\n",
    "read_file = open_file.readlines()\n",
    "total = 0\n",
    "counter = 0\n",
    "for line in read_file:\n",
    "    index_start = line.find(\";\") + 1\n",
    "    index_end = index_start + 4\n",
    "    total += float(line[index_start:index_end])\n",
    "    counter += 1\n",
    "mean = total / counter\n",
    "print(mean)"
   ]
  },
  {
   "cell_type": "code",
   "execution_count": 39,
   "metadata": {},
   "outputs": [
    {
     "ename": "ValueError",
     "evalue": "invalid literal for int() with base 10: ''",
     "output_type": "error",
     "traceback": [
      "\u001b[0;31m---------------------------------------------------------------------------\u001b[0m",
      "\u001b[0;31mValueError\u001b[0m                                Traceback (most recent call last)",
      "\u001b[1;32m/Users/dafandikri/Documents/Universitas Indonesia/Academics/Term 1/DDP 1/Tugas/Pengerjaan/COBA/cobaUTS.ipynb Cell 5\u001b[0m line \u001b[0;36m1\n\u001b[0;32m----> <a href='vscode-notebook-cell:/Users/dafandikri/Documents/Universitas%20Indonesia/Academics/Term%201/DDP%201/Tugas/Pengerjaan/COBA/cobaUTS.ipynb#X10sZmlsZQ%3D%3D?line=0'>1</a>\u001b[0m decimal \u001b[39m=\u001b[39m \u001b[39mint\u001b[39;49m(\u001b[39minput\u001b[39;49m(\u001b[39m\"\u001b[39;49m\u001b[39mdecimal: \u001b[39;49m\u001b[39m\"\u001b[39;49m))\n\u001b[1;32m      <a href='vscode-notebook-cell:/Users/dafandikri/Documents/Universitas%20Indonesia/Academics/Term%201/DDP%201/Tugas/Pengerjaan/COBA/cobaUTS.ipynb#X10sZmlsZQ%3D%3D?line=1'>2</a>\u001b[0m octal \u001b[39m=\u001b[39m \u001b[39m\"\u001b[39m\u001b[39m\"\u001b[39m\n\u001b[1;32m      <a href='vscode-notebook-cell:/Users/dafandikri/Documents/Universitas%20Indonesia/Academics/Term%201/DDP%201/Tugas/Pengerjaan/COBA/cobaUTS.ipynb#X10sZmlsZQ%3D%3D?line=2'>3</a>\u001b[0m \u001b[39mwhile\u001b[39;00m decimal \u001b[39m>\u001b[39m \u001b[39m0\u001b[39m:\n",
      "\u001b[0;31mValueError\u001b[0m: invalid literal for int() with base 10: ''"
     ]
    }
   ],
   "source": [
    "decimal = int(input(\"decimal: \"))\n",
    "octal = \"\"\n",
    "while decimal > 0:\n",
    "    sisa = decimal % 8\n",
    "    decimal = decimal//8\n",
    "    octal = octal + str(sisa)\n",
    "\n",
    "octal = octal[::-1]\n",
    "print(octal)\n",
    "    "
   ]
  },
  {
   "cell_type": "code",
   "execution_count": 45,
   "metadata": {},
   "outputs": [
    {
     "ename": "ValueError",
     "evalue": "invalid literal for int() with base 10: '16-3'",
     "output_type": "error",
     "traceback": [
      "\u001b[0;31m---------------------------------------------------------------------------\u001b[0m",
      "\u001b[0;31mValueError\u001b[0m                                Traceback (most recent call last)",
      "\u001b[1;32m/Users/dafandikri/Documents/Universitas Indonesia/Academics/Term 1/DDP 1/Tugas/Pengerjaan/COBA/cobaUTS.ipynb Cell 6\u001b[0m line \u001b[0;36m1\n\u001b[0;32m----> <a href='vscode-notebook-cell:/Users/dafandikri/Documents/Universitas%20Indonesia/Academics/Term%201/DDP%201/Tugas/Pengerjaan/COBA/cobaUTS.ipynb#X11sZmlsZQ%3D%3D?line=0'>1</a>\u001b[0m decimal \u001b[39m=\u001b[39m \u001b[39mint\u001b[39;49m(\u001b[39minput\u001b[39;49m(\u001b[39m\"\u001b[39;49m\u001b[39mdecimal: \u001b[39;49m\u001b[39m\"\u001b[39;49m))\n\u001b[1;32m      <a href='vscode-notebook-cell:/Users/dafandikri/Documents/Universitas%20Indonesia/Academics/Term%201/DDP%201/Tugas/Pengerjaan/COBA/cobaUTS.ipynb#X11sZmlsZQ%3D%3D?line=1'>2</a>\u001b[0m binary \u001b[39m=\u001b[39m \u001b[39m\"\u001b[39m\u001b[39m\"\u001b[39m\n\u001b[1;32m      <a href='vscode-notebook-cell:/Users/dafandikri/Documents/Universitas%20Indonesia/Academics/Term%201/DDP%201/Tugas/Pengerjaan/COBA/cobaUTS.ipynb#X11sZmlsZQ%3D%3D?line=2'>3</a>\u001b[0m \u001b[39mwhile\u001b[39;00m decimal \u001b[39m>\u001b[39m \u001b[39m0\u001b[39m:\n",
      "\u001b[0;31mValueError\u001b[0m: invalid literal for int() with base 10: '16-3'"
     ]
    }
   ],
   "source": [
    "decimal = int(input(\"decimal: \"))\n",
    "binary = \"\"\n",
    "while decimal > 0:\n",
    "    sisa = decimal % 2\n",
    "    decimal = decimal//2\n",
    "    binary = binary + str(sisa)\n",
    "\n",
    "binary = binary[::-1]\n",
    "print(binary)\n",
    "    "
   ]
  },
  {
   "cell_type": "code",
   "execution_count": 40,
   "metadata": {},
   "outputs": [
    {
     "ename": "TypeError",
     "evalue": "'int' object is not callable",
     "output_type": "error",
     "traceback": [
      "\u001b[0;31m---------------------------------------------------------------------------\u001b[0m",
      "\u001b[0;31mTypeError\u001b[0m                                 Traceback (most recent call last)",
      "\u001b[1;32m/Users/dafandikri/Documents/Universitas Indonesia/Academics/Term 1/DDP 1/Tugas/Pengerjaan/COBA/cobaUTS.ipynb Cell 7\u001b[0m line \u001b[0;36m1\n\u001b[0;32m----> <a href='vscode-notebook-cell:/Users/dafandikri/Documents/Universitas%20Indonesia/Academics/Term%201/DDP%201/Tugas/Pengerjaan/COBA/cobaUTS.ipynb#W6sZmlsZQ%3D%3D?line=0'>1</a>\u001b[0m \u001b[39minput\u001b[39m \u001b[39m=\u001b[39m \u001b[39mint\u001b[39m(\u001b[39minput\u001b[39;49m(\u001b[39m\"\u001b[39;49m\u001b[39mMasukkan bilangan positif\u001b[39;49m\u001b[39m\"\u001b[39;49m))\n\u001b[1;32m      <a href='vscode-notebook-cell:/Users/dafandikri/Documents/Universitas%20Indonesia/Academics/Term%201/DDP%201/Tugas/Pengerjaan/COBA/cobaUTS.ipynb#W6sZmlsZQ%3D%3D?line=1'>2</a>\u001b[0m max_1 \u001b[39m=\u001b[39m \u001b[39m0\u001b[39m\n\u001b[1;32m      <a href='vscode-notebook-cell:/Users/dafandikri/Documents/Universitas%20Indonesia/Academics/Term%201/DDP%201/Tugas/Pengerjaan/COBA/cobaUTS.ipynb#W6sZmlsZQ%3D%3D?line=2'>3</a>\u001b[0m max_2 \u001b[39m=\u001b[39m \u001b[39m0\u001b[39m\n",
      "\u001b[0;31mTypeError\u001b[0m: 'int' object is not callable"
     ]
    }
   ],
   "source": [
    "input = int(input(\"Masukkan bilangan positif\"))\n",
    "max_1 = 0\n",
    "max_2 = 0\n",
    "temp = 0\n",
    "while input != 1:\n",
    "    input = int(input(\"Masukkan bilangan positif\"))\n",
    "    if max_1 < input:\n",
    "        max_1 = input\n",
    "    if max_2 < input:\n",
    "        max_2 = input\n",
    "        temp = input\n",
    "        if max_2 == max_1:\n",
    "            max_2 = temp\n",
    "print(max_1)\n",
    "print(max_2)"
   ]
  },
  {
   "cell_type": "code",
   "execution_count": 42,
   "metadata": {},
   "outputs": [
    {
     "ename": "TypeError",
     "evalue": "'int' object is not callable",
     "output_type": "error",
     "traceback": [
      "\u001b[0;31m---------------------------------------------------------------------------\u001b[0m",
      "\u001b[0;31mTypeError\u001b[0m                                 Traceback (most recent call last)",
      "\u001b[1;32m/Users/dafandikri/Documents/Universitas Indonesia/Academics/Term 1/DDP 1/Tugas/Pengerjaan/COBA/cobaUTS.ipynb Cell 8\u001b[0m line \u001b[0;36m1\n\u001b[0;32m----> <a href='vscode-notebook-cell:/Users/dafandikri/Documents/Universitas%20Indonesia/Academics/Term%201/DDP%201/Tugas/Pengerjaan/COBA/cobaUTS.ipynb#X12sZmlsZQ%3D%3D?line=0'>1</a>\u001b[0m n \u001b[39m=\u001b[39m \u001b[39mint\u001b[39m(\u001b[39minput\u001b[39;49m(\u001b[39m\"\u001b[39;49m\u001b[39mMasukkan angka: \u001b[39;49m\u001b[39m\"\u001b[39;49m))\n\u001b[1;32m      <a href='vscode-notebook-cell:/Users/dafandikri/Documents/Universitas%20Indonesia/Academics/Term%201/DDP%201/Tugas/Pengerjaan/COBA/cobaUTS.ipynb#X12sZmlsZQ%3D%3D?line=1'>2</a>\u001b[0m median \u001b[39m=\u001b[39m n \u001b[39m/\u001b[39m\u001b[39m/\u001b[39m \u001b[39m2\u001b[39m\n\u001b[1;32m      <a href='vscode-notebook-cell:/Users/dafandikri/Documents/Universitas%20Indonesia/Academics/Term%201/DDP%201/Tugas/Pengerjaan/COBA/cobaUTS.ipynb#X12sZmlsZQ%3D%3D?line=2'>3</a>\u001b[0m \u001b[39mfor\u001b[39;00m i \u001b[39min\u001b[39;00m \u001b[39mrange\u001b[39m(n, \u001b[39m0\u001b[39m, \u001b[39m-\u001b[39m\u001b[39m1\u001b[39m):\n",
      "\u001b[0;31mTypeError\u001b[0m: 'int' object is not callable"
     ]
    }
   ],
   "source": [
    "n = int(input(\"Masukkan angka: \"))\n",
    "median = n // 2\n",
    "for i in range(n, 0, -1):\n",
    "    for j in range(n, median, -1):\n",
    "        print(j, end=\" \")\n",
    "    \n",
    "    for k in range(median, n+1):\n",
    "        print(k, end=\" \")\n",
    "    print()"
   ]
  },
  {
   "cell_type": "code",
   "execution_count": 46,
   "metadata": {},
   "outputs": [
    {
     "data": {
      "text/plain": [
       "2047"
      ]
     },
     "execution_count": 46,
     "metadata": {},
     "output_type": "execute_result"
    }
   ],
   "source": [
    "def biner2desimal(binstr):\n",
    "    total = 0\n",
    "    index_lsb = len(binstr)-1\n",
    "    for i in range(0, len(binstr)):\n",
    "        if i == 0:\n",
    "            total += -1 * int(binstr[i]) * 2 ** index_lsb\n",
    "        else:\n",
    "            total += int(binstr[i]) * 2 ** index_lsb\n",
    "        index_lsb-=1\n",
    "    return total\n",
    "biner2desimal('011111111111')"
   ]
  },
  {
   "cell_type": "code",
   "execution_count": 47,
   "metadata": {},
   "outputs": [
    {
     "name": "stdout",
     "output_type": "stream",
     "text": [
      "kontol\n",
      "None\n"
     ]
    }
   ],
   "source": [
    "print(print(\"kontol\"))"
   ]
  },
  {
   "cell_type": "code",
   "execution_count": 1,
   "metadata": {},
   "outputs": [
    {
     "name": "stdout",
     "output_type": "stream",
     "text": [
      "fas1lkom\n"
     ]
    }
   ],
   "source": [
    "def replace_with_1(s, c):\n",
    "    result = \"\"\n",
    "    for i in range(0, len(s)):\n",
    "        if s[i] == c:\n",
    "            result += '1'\n",
    "        else:\n",
    "            result += s[i]\n",
    "    return result\n",
    "print(replace_with_1(\"fasilkom\", 'i'))"
   ]
  },
  {
   "cell_type": "code",
   "execution_count": 2,
   "metadata": {},
   "outputs": [
    {
     "ename": "TypeError",
     "evalue": "can only concatenate str (not \"int\") to str",
     "output_type": "error",
     "traceback": [
      "\u001b[0;31m---------------------------------------------------------------------------\u001b[0m",
      "\u001b[0;31mTypeError\u001b[0m                                 Traceback (most recent call last)",
      "\u001b[1;32m/Users/dafandikri/Documents/Universitas Indonesia/Academics/Term 1/DDP 1/Tugas/Pengerjaan/COBA/cobaUTS.ipynb Cell 12\u001b[0m line \u001b[0;36m1\n\u001b[0;32m----> <a href='vscode-notebook-cell:/Users/dafandikri/Documents/Universitas%20Indonesia/Academics/Term%201/DDP%201/Tugas/Pengerjaan/COBA/cobaUTS.ipynb#X14sZmlsZQ%3D%3D?line=0'>1</a>\u001b[0m \u001b[39mprint\u001b[39m(\u001b[39m\"\u001b[39;49m\u001b[39mgeek\u001b[39;49m\u001b[39m\"\u001b[39;49m \u001b[39m+\u001b[39;49m \u001b[39m2\u001b[39;49m)\n",
      "\u001b[0;31mTypeError\u001b[0m: can only concatenate str (not \"int\") to str"
     ]
    }
   ],
   "source": [
    "print(\"geek\" + 2)"
   ]
  },
  {
   "cell_type": "code",
   "execution_count": 4,
   "metadata": {},
   "outputs": [
    {
     "name": "stdout",
     "output_type": "stream",
     "text": [
      "[9, 2, 3]\n",
      "[9, 2, 3]\n",
      "[4, 5, 6]\n"
     ]
    }
   ],
   "source": [
    "a_list = [1,2,3]\n",
    "b_list = a_list\n",
    "c_list = [4,5,6]\n",
    "a_list[0] = 9\n",
    "\n",
    "print(a_list)\n",
    "print(b_list)\n",
    "print(c_list)"
   ]
  },
  {
   "cell_type": "code",
   "execution_count": 10,
   "metadata": {},
   "outputs": [
    {
     "name": "stdout",
     "output_type": "stream",
     "text": [
      "0\n"
     ]
    }
   ],
   "source": [
    "print(0%2)"
   ]
  },
  {
   "cell_type": "code",
   "execution_count": 19,
   "metadata": {},
   "outputs": [
    {
     "ename": "ValueError",
     "evalue": "could not convert string to float: ''",
     "output_type": "error",
     "traceback": [
      "\u001b[0;31m---------------------------------------------------------------------------\u001b[0m",
      "\u001b[0;31mValueError\u001b[0m                                Traceback (most recent call last)",
      "\u001b[1;32m/Users/dafandikri/Documents/Universitas Indonesia/Academics/Term 1/DDP 1/Tugas/Pengerjaan/COBA/cobaUTS.ipynb Cell 15\u001b[0m line \u001b[0;36m1\n\u001b[1;32m      <a href='vscode-notebook-cell:/Users/dafandikri/Documents/Universitas%20Indonesia/Academics/Term%201/DDP%201/Tugas/Pengerjaan/COBA/cobaUTS.ipynb#X21sZmlsZQ%3D%3D?line=7'>8</a>\u001b[0m         \u001b[39melse\u001b[39;00m:\n\u001b[1;32m      <a href='vscode-notebook-cell:/Users/dafandikri/Documents/Universitas%20Indonesia/Academics/Term%201/DDP%201/Tugas/Pengerjaan/COBA/cobaUTS.ipynb#X21sZmlsZQ%3D%3D?line=8'>9</a>\u001b[0m             \u001b[39mreturn\u001b[39;00m \u001b[39mfloat\u001b[39m((x[\u001b[39mlen\u001b[39m(x)\u001b[39m/\u001b[39m\u001b[39m/\u001b[39m\u001b[39m2\u001b[39m]\u001b[39m+\u001b[39mx[(\u001b[39mlen\u001b[39m(x)\u001b[39m/\u001b[39m\u001b[39m/\u001b[39m\u001b[39m2\u001b[39m)\u001b[39m-\u001b[39m\u001b[39m1\u001b[39m])\u001b[39m/\u001b[39m\u001b[39m2\u001b[39m)\n\u001b[0;32m---> <a href='vscode-notebook-cell:/Users/dafandikri/Documents/Universitas%20Indonesia/Academics/Term%201/DDP%201/Tugas/Pengerjaan/COBA/cobaUTS.ipynb#X21sZmlsZQ%3D%3D?line=10'>11</a>\u001b[0m my_median([\u001b[39m'\u001b[39;49m\u001b[39m'\u001b[39;49m])\n",
      "\u001b[1;32m/Users/dafandikri/Documents/Universitas Indonesia/Academics/Term 1/DDP 1/Tugas/Pengerjaan/COBA/cobaUTS.ipynb Cell 15\u001b[0m line \u001b[0;36m7\n\u001b[1;32m      <a href='vscode-notebook-cell:/Users/dafandikri/Documents/Universitas%20Indonesia/Academics/Term%201/DDP%201/Tugas/Pengerjaan/COBA/cobaUTS.ipynb#X21sZmlsZQ%3D%3D?line=4'>5</a>\u001b[0m x \u001b[39m=\u001b[39m \u001b[39msorted\u001b[39m(lst)\n\u001b[1;32m      <a href='vscode-notebook-cell:/Users/dafandikri/Documents/Universitas%20Indonesia/Academics/Term%201/DDP%201/Tugas/Pengerjaan/COBA/cobaUTS.ipynb#X21sZmlsZQ%3D%3D?line=5'>6</a>\u001b[0m \u001b[39mif\u001b[39;00m \u001b[39mlen\u001b[39m(x) \u001b[39m%\u001b[39m \u001b[39m2\u001b[39m \u001b[39m==\u001b[39m \u001b[39m1\u001b[39m:\n\u001b[0;32m----> <a href='vscode-notebook-cell:/Users/dafandikri/Documents/Universitas%20Indonesia/Academics/Term%201/DDP%201/Tugas/Pengerjaan/COBA/cobaUTS.ipynb#X21sZmlsZQ%3D%3D?line=6'>7</a>\u001b[0m     \u001b[39mreturn\u001b[39;00m \u001b[39mfloat\u001b[39;49m(x[\u001b[39mlen\u001b[39;49m(x)\u001b[39m/\u001b[39;49m\u001b[39m/\u001b[39;49m\u001b[39m2\u001b[39;49m])\n\u001b[1;32m      <a href='vscode-notebook-cell:/Users/dafandikri/Documents/Universitas%20Indonesia/Academics/Term%201/DDP%201/Tugas/Pengerjaan/COBA/cobaUTS.ipynb#X21sZmlsZQ%3D%3D?line=7'>8</a>\u001b[0m \u001b[39melse\u001b[39;00m:\n\u001b[1;32m      <a href='vscode-notebook-cell:/Users/dafandikri/Documents/Universitas%20Indonesia/Academics/Term%201/DDP%201/Tugas/Pengerjaan/COBA/cobaUTS.ipynb#X21sZmlsZQ%3D%3D?line=8'>9</a>\u001b[0m     \u001b[39mreturn\u001b[39;00m \u001b[39mfloat\u001b[39m((x[\u001b[39mlen\u001b[39m(x)\u001b[39m/\u001b[39m\u001b[39m/\u001b[39m\u001b[39m2\u001b[39m]\u001b[39m+\u001b[39mx[(\u001b[39mlen\u001b[39m(x)\u001b[39m/\u001b[39m\u001b[39m/\u001b[39m\u001b[39m2\u001b[39m)\u001b[39m-\u001b[39m\u001b[39m1\u001b[39m])\u001b[39m/\u001b[39m\u001b[39m2\u001b[39m)\n",
      "\u001b[0;31mValueError\u001b[0m: could not convert string to float: ''"
     ]
    }
   ],
   "source": [
    "def my_median(lst):\n",
    "    if lst is None:\n",
    "        return None\n",
    "    else:\n",
    "        x = sorted(lst)\n",
    "        if len(x) % 2 == 1:\n",
    "            return float(x[len(x)//2])\n",
    "        else:\n",
    "            return float((x[len(x)//2]+x[(len(x)//2)-1])/2)\n",
    "\n",
    "my_median()"
   ]
  },
  {
   "cell_type": "code",
   "execution_count": 41,
   "metadata": {},
   "outputs": [
    {
     "name": "stdout",
     "output_type": "stream",
     "text": [
      "[1.0, 12.0, 'Conversion Error']\n"
     ]
    }
   ],
   "source": [
    "def convert_list(a_list, convert_mode):\n",
    "    a_list_changed = []\n",
    "    for i in range(0, len(a_list)):\n",
    "        try:\n",
    "            if convert_mode == \"INT_MODE\":\n",
    "                a_list_changed.append(int(a_list[i]))\n",
    "            elif convert_mode == \"FLOAT_MODE\":\n",
    "                a_list_changed.append(float(a_list[i]))\n",
    "            elif convert_mode == \"STR_MODE\":\n",
    "                a_list_changed.append(str(a_list[i]))\n",
    "        except ValueError:\n",
    "            a_list_changed.append(\"Conversion Error\")\n",
    "    return a_list_changed\n",
    "\n",
    "a_list = [\"1\",12,\"wqwq\"]\n",
    "print(convert_list(a_list, \"FLOAT_MODE\"))\n"
   ]
  },
  {
   "cell_type": "code",
   "execution_count": 30,
   "metadata": {},
   "outputs": [
    {
     "name": "stdout",
     "output_type": "stream",
     "text": [
      "34\n"
     ]
    }
   ],
   "source": [
    "hehe = [1,2,34,5]\n",
    "print(hehe[])"
   ]
  }
 ],
 "metadata": {
  "kernelspec": {
   "display_name": "Python 3",
   "language": "python",
   "name": "python3"
  },
  "language_info": {
   "codemirror_mode": {
    "name": "ipython",
    "version": 3
   },
   "file_extension": ".py",
   "mimetype": "text/x-python",
   "name": "python",
   "nbconvert_exporter": "python",
   "pygments_lexer": "ipython3",
   "version": "3.11.5"
  }
 },
 "nbformat": 4,
 "nbformat_minor": 2
}
